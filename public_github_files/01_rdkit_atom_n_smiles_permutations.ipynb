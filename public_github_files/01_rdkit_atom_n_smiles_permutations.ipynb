{
 "cells": [
  {
   "cell_type": "code",
   "execution_count": null,
   "metadata": {},
   "outputs": [],
   "source": [
    "from rdkit import Chem"
   ]
  },
  {
   "cell_type": "code",
   "execution_count": null,
   "metadata": {},
   "outputs": [],
   "source": [
    "rdkit_atom_0_query_adjusted_smiles = [\n",
    "    \"CC1(C)SC2C(NC(=O)Cc3ccccc3)C(=O)N2C1C(=O)[O-]\", # penicillin\n",
    "    \"CC(C)(C)C(NC(=O)C(F)(F)F)C(=O)N1CC2C(C1C(=O)NC(C#N)CC1CCNC1=O)C2(C)C\", # nirmatrelvir\n",
    "    \"Cc1cn(C2CC(N=[N+]=[N-])C(CO)O2)c(=O)[nH]c1=O\", # azt\n",
    "    \"CCN(CC)C(=O)C1C=C2c3cccc4[nH]cc(c34)CC2[NH+](C)C1\", # lsd\n",
    "    \"CCC(=O)N(c1ccccc1)C1CC[NH+](CCc2ccccc2)CC1\", # fentanyl\n",
    "    \"Nc1c(S(=O)(=O)[O-])cc(Nc2ccccc2)c2c1C(=O)c1ccccc1C2=O\", # acid blue 25 free acid\n",
    "    \"COc1ccc(C(=O)CC(=O)c2ccc(C(C)(C)C)cc2)cc1\", # avobenzone\n",
    "    \"c1ccc(N(c2ccccc2)c2ccc3c(c2)[nH]c2ccccc23)cc1\", # 2-diphenylaminocarbazole\n",
    "]\n",
    "\n",
    "names = [\n",
    "    \"Penicillin G\",\n",
    "    \"Nirmatrelvir\",\n",
    "    \"AZT\",\n",
    "    \"LSD\",\n",
    "    \"Fentanyl\",\n",
    "    \"Acid Blue 25 Free Acid\",\n",
    "    \"Avobenzone\",\n",
    "    \"2-Diphenylaminocarbazole\"\n",
    "]"
   ]
  },
  {
   "cell_type": "code",
   "execution_count": null,
   "metadata": {},
   "outputs": [],
   "source": [
    "for smi, name in zip(rdkit_atom_0_query_adjusted_smiles, names):\n",
    "    i = 0\n",
    "    error = False\n",
    "    mol = Chem.MolFromSmiles(smi)\n",
    "    print(f\"\\n{name}\")\n",
    "    while not error:\n",
    "        try:\n",
    "            smiles = Chem.rdmolfiles.MolToSmiles(mol, canonical=True, rootedAtAtom=i)\n",
    "            print(smiles)\n",
    "            i += 1\n",
    "        except Exception as e:\n",
    "            print(\"Error at atom\", i)\n",
    "            error = True"
   ]
  }
 ],
 "metadata": {
  "kernelspec": {
   "display_name": "syn_can_3",
   "language": "python",
   "name": "python3"
  },
  "language_info": {
   "codemirror_mode": {
    "name": "ipython",
    "version": 3
   },
   "file_extension": ".py",
   "mimetype": "text/x-python",
   "name": "python",
   "nbconvert_exporter": "python",
   "pygments_lexer": "ipython3",
   "version": "3.10.6"
  },
  "orig_nbformat": 4
 },
 "nbformat": 4,
 "nbformat_minor": 2
}
