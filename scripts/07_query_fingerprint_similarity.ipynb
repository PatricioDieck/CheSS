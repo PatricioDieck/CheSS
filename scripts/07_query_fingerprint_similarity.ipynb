{
 "cells": [
  {
   "cell_type": "code",
   "execution_count": null,
   "metadata": {},
   "outputs": [],
   "source": [
    "# Charges adjusted to match RDKit Standardized Database\n",
    "rdkit_atom_0_query_adjusted_smiles = [\n",
    "    \"CC1(C)SC2C(NC(=O)Cc3ccccc3)C(=O)N2C1C(=O)[O-]\", # penicillin\n",
    "    \"CC(C)(C)C(NC(=O)C(F)(F)F)C(=O)N1CC2C(C1C(=O)NC(C#N)CC1CCNC1=O)C2(C)C\", # nirmatrelvir\n",
    "    \"Cc1cn(C2CC(N=[N+]=[N-])C(CO)O2)c(=O)[nH]c1=O\", # azt\n",
    "    \"CCN(CC)C(=O)C1C=C2c3cccc4[nH]cc(c34)CC2[NH+](C)C1\", # lsd\n",
    "    \"CCC(=O)N(c1ccccc1)C1CC[NH+](CCc2ccccc2)CC1\", # fentanyl\n",
    "    \"Nc1c(S(=O)(=O)[O-])cc(Nc2ccccc2)c2c1C(=O)c1ccccc1C2=O\", # acid blue 25 free acid\n",
    "    \"COc1ccc(C(=O)CC(=O)c2ccc(C(C)(C)C)cc2)cc1\", # avobenzone\n",
    "    \"c1ccc(N(c2ccccc2)c2ccc3c(c2)[nH]c2ccccc23)cc1\", # 2-diphenylaminocarbazole\n",
    "]"
   ]
  },
  {
   "cell_type": "code",
   "execution_count": null,
   "metadata": {},
   "outputs": [],
   "source": [
    "import numpy as np\n",
    "import pandas as pd\n",
    "import matplotlib.pyplot as plt\n",
    "import seaborn as sns\n",
    "from matplotlib.figure import figaspect\n",
    "from difflib import SequenceMatcher\n",
    "from transformers import AutoTokenizer\n",
    "plt.rcParams[\"font.family\"] = \"serif\"\n",
    "plt.rcParams[\"mathtext.fontset\"] = \"dejavuserif\"\n"
   ]
  },
  {
   "cell_type": "code",
   "execution_count": null,
   "metadata": {},
   "outputs": [],
   "source": [
    "from rdkit import Chem, DataStructs\n",
    "def tanimoto(smi1, smi2):\n",
    "    \"\"\"\n",
    "    Code from https://medium.com/data-professor/how-to-calculate-molecular-similarity-25d543ea7f40\n",
    "    \"\"\"\n",
    "    mol1 = Chem.MolFromSmiles(smi1)\n",
    "    mol2 = Chem.MolFromSmiles(smi2)\n",
    "    fp1 = Chem.RDKFingerprint(mol1)\n",
    "    fp2 = Chem.RDKFingerprint(mol2)\n",
    "    # fp1 = AllChem.GetMorganFingerprintAsBitVect(mol1, useChirality = False, radius = 3, nBits=2048)\n",
    "    # fp2 = AllChem.GetMorganFingerprintAsBitVect(mol2, useChirality = False, radius = 3, nBits=2048)\n",
    "    s = round(DataStructs.TanimotoSimilarity(fp1,fp2),2)\n",
    "    return s"
   ]
  },
  {
   "cell_type": "code",
   "execution_count": null,
   "metadata": {},
   "outputs": [],
   "source": [
    "\n",
    "names_list = [\n",
    "    \"Penicillin G\",\n",
    "    \"Nirmatrelvir\",\n",
    "    \"Zidovudine\",\n",
    "    \"LSD\",\n",
    "    \"Fentanyl\",\n",
    "    \"Acid Blue 25 FA\",\n",
    "    \"Avobenzone\",\n",
    "    \"2-dPAC\"\n",
    "]\n",
    "\n",
    "\n",
    "\n",
    "arr = np.zeros((8,8))\n",
    "for count_x, smi_x in enumerate(rdkit_atom_0_query_adjusted_smiles):\n",
    "    for count_y, smi_y in enumerate(rdkit_atom_0_query_adjusted_smiles):\n",
    "        arr[count_x, count_y] = tanimoto(smi_x, smi_y)\n",
    "\n",
    "fig, ax = plt.subplots()\n",
    "cmap = sns.color_palette(\"viridis\", as_cmap=True)\n",
    "ax = sns.heatmap(arr, \n",
    "                vmin=0, \n",
    "                vmax=1, \n",
    "                cmap=cmap,\n",
    "                xticklabels= names_list,\n",
    "                yticklabels= names_list,\n",
    "                cbar_kws={\"label\": \"Fingerprint Tanimoto Similarity\"},\n",
    "            #  cbar=False,\n",
    "                annot=True,\n",
    "                square=True,\n",
    "                linewidths=0.5, \n",
    "                )\n",
    "ax.xaxis.tick_top() # x axis on top\n",
    "ax.tick_params(length=0)\n",
    "plt.setp(ax.get_yticklabels(), rotation=0, ha=\"right\",\n",
    "        rotation_mode=\"anchor\")\n",
    "plt.setp(ax.get_xticklabels(), rotation=45, ha=\"left\",\n",
    "        rotation_mode=\"anchor\")\n",
    "plt.savefig(f\"query_fingerprint_matrix.png\", dpi=300, bbox_inches = \"tight\")"
   ]
  }
 ],
 "metadata": {
  "kernelspec": {
   "display_name": "syn_can_3",
   "language": "python",
   "name": "python3"
  },
  "language_info": {
   "codemirror_mode": {
    "name": "ipython",
    "version": 3
   },
   "file_extension": ".py",
   "mimetype": "text/x-python",
   "name": "python",
   "nbconvert_exporter": "python",
   "pygments_lexer": "ipython3",
   "version": "3.10.6"
  },
  "orig_nbformat": 4,
  "vscode": {
   "interpreter": {
    "hash": "747e1af95f149c3c50a5e3969eb9d0f3c039d9ec29f4cf12fea16c9b6b226836"
   }
  }
 },
 "nbformat": 4,
 "nbformat_minor": 2
}
